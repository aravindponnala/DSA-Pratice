{
 "cells": [
  {
   "cell_type": "markdown",
   "id": "3ac9e510-a5d0-4545-af09-f1882a6ac344",
   "metadata": {},
   "source": [
    "Calculate the product of all the elements in an array.\n",
    "\n",
    "Example 1:\n",
    "\n",
    "Input:\n",
    "5\n",
    "1 2 3 4 5\n",
    "Output:\n",
    "120\n",
    " \n",
    "\n",
    "Example 2:\n",
    "\n",
    "Input:\n",
    "10\n",
    "5 5 5 5 5 5 5 5 5 5\n",
    "Output:\n",
    "9765625"
   ]
  },
  {
   "cell_type": "code",
   "execution_count": 3,
   "id": "68ec1981-dbef-45c0-8838-e03d06e70090",
   "metadata": {},
   "outputs": [
    {
     "name": "stdout",
     "output_type": "stream",
     "text": [
      "0\n",
      "0\n",
      "0\n",
      "0\n",
      "0\n",
      "0\n"
     ]
    }
   ],
   "source": [
    "def multiply_array(arr):\n",
    "    multiply = 0\n",
    "    for i in arr:\n",
    "        multiply = multiply * i\n",
    "        print(multiply)\n",
    "    return multiply\n",
    "\n",
    "arr = [1,2,3,4,5]\n",
    "print(multiply_array(arr))\n",
    "\n",
    "# Thsi is blunder mistake because it gives 0 ==> because some * 0 is always 0"
   ]
  },
  {
   "cell_type": "code",
   "execution_count": 5,
   "id": "d6f04b95-4d20-4775-8a84-4621cab584c1",
   "metadata": {},
   "outputs": [
    {
     "name": "stdout",
     "output_type": "stream",
     "text": [
      "9765625\n"
     ]
    }
   ],
   "source": [
    "def multiply_array(arr):\n",
    "    multiply = 1\n",
    "    for i in arr:\n",
    "        multiply = multiply * i\n",
    "    return multiply\n",
    "\n",
    "arr = [1,2,3,4,5]\n",
    "arr2 = [5,5,5,5,5,5,5,5,5,5]\n",
    "print(multiply_array(arr2))"
   ]
  },
  {
   "cell_type": "code",
   "execution_count": null,
   "id": "2b23407f-50b4-4576-8dd0-2f63dd669176",
   "metadata": {},
   "outputs": [],
   "source": []
  }
 ],
 "metadata": {
  "kernelspec": {
   "display_name": "Python 3 (ipykernel)",
   "language": "python",
   "name": "python3"
  },
  "language_info": {
   "codemirror_mode": {
    "name": "ipython",
    "version": 3
   },
   "file_extension": ".py",
   "mimetype": "text/x-python",
   "name": "python",
   "nbconvert_exporter": "python",
   "pygments_lexer": "ipython3",
   "version": "3.9.7"
  }
 },
 "nbformat": 4,
 "nbformat_minor": 5
}
