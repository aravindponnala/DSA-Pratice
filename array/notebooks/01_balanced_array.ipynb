{
 "cells": [
  {
   "cell_type": "markdown",
   "id": "bbcfc9ac-2b32-4487-b63c-7d889b00fdd4",
   "metadata": {},
   "source": [
    "Given an array arr of even size, the task is to find a minimum value that can be added to an element so that the array becomes balanced. An array is balanced if the sum of the left half of the array elements is equal to the sum of the right half.\n",
    "\n",
    "Examples :\n",
    "\n",
    "Input: arr = [1, 5, 3, 2]\n",
    "Output: 1\n",
    "Explanation: Sum of first 2 elements is 1 + 5  = 6, Sum of last 2 elements is 3 + 2  = 5, To make the array balanced you can add 1.\n",
    "\n",
    "Input: arr = [1, 2, 1, 2, 1, 3]\n",
    "Output: 2\n",
    "Explanation: Sum of first 3 elements is 1 + 2 + 1 = 4, Sum of last three elements is 2 + 1 + 3 = 6, To make the array balanced you can add 2."
   ]
  },
  {
   "cell_type": "code",
   "execution_count": 7,
   "id": "c6f76d69-216a-4909-a4da-cec4b48d0b26",
   "metadata": {},
   "outputs": [
    {
     "name": "stdout",
     "output_type": "stream",
     "text": [
      "1\n"
     ]
    }
   ],
   "source": [
    "\"\"\"My solution\"\"\"\n",
    "\n",
    "arr1 = [1, 5, 3, 2]\n",
    "arr2 = [1, 2, 1, 2, 1, 3]\n",
    "\n",
    "class Balanced_Array:\n",
    "    def __init__(self,arr):\n",
    "        self.arr = arr\n",
    "        \n",
    "    def check_balanced_array(self):\n",
    "        #divide arry into two parts\n",
    "        mid = len(self.arr)//2\n",
    "        left = self.arr[:mid]\n",
    "        right = self.arr[mid:]\n",
    "        \n",
    "        left_sum = 0\n",
    "        right_sum = 0\n",
    "        for i in left:\n",
    "            left_sum = left_sum + i\n",
    "        # print(left_sum)\n",
    "        \n",
    "        for i in right:\n",
    "            right_sum = right_sum + i\n",
    "        # print(right_sum)\n",
    "        \n",
    "        minimum_value = abs(right_sum - left_sum)\n",
    "        \n",
    "        return minimum_value\n",
    "        \n",
    "\n",
    "a = Balanced_Array(arr1)\n",
    "print(a.check_balanced_array())"
   ]
  },
  {
   "cell_type": "code",
   "execution_count": null,
   "id": "0eaa91d7-ca50-4044-952a-0f495c5eb61b",
   "metadata": {},
   "outputs": [],
   "source": [
    "\"\"\" actual solution \"\"\"\n",
    "\n",
    "def min_add_to_balance(arr):\n",
    "    n = len(arr)\n",
    "    half = n // 2\n",
    "    \n",
    "    # Calculate left and right half sums\n",
    "    left_sum = sum(arr[:half])\n",
    "    right_sum = sum(arr[half:])\n",
    "    \n",
    "    # Calculate the difference\n",
    "    return abs(left_sum - right_sum)\n",
    "\n",
    "# Example 1\n",
    "print(min_add_to_balance([1, 5, 3, 2]))  # Output: 1\n",
    "\n",
    "# Example 2\n",
    "print(min_add_to_balance([1, 2, 1, 2, 1, 3]))  # Output: 2\n"
   ]
  }
 ],
 "metadata": {
  "kernelspec": {
   "display_name": "Python 3",
   "language": "python",
   "name": "python3"
  },
  "language_info": {
   "codemirror_mode": {
    "name": "ipython",
    "version": 3
   },
   "file_extension": ".py",
   "mimetype": "text/x-python",
   "name": "python",
   "nbconvert_exporter": "python",
   "pygments_lexer": "ipython3",
   "version": "3.10.5"
  }
 },
 "nbformat": 4,
 "nbformat_minor": 5
}
