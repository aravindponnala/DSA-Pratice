{
 "cells": [
  {
   "cell_type": "markdown",
   "id": "11873c45-c89f-44f3-8440-23ec349c3276",
   "metadata": {},
   "source": [
    "Countries at war\n",
    "\n",
    "The two countries of A and B are at war against each other. The power of these soldiers is given by arr1[i] of A and arr2[i] of B. They can only attack their counterpart enemies like arr1[i] can attack only arr2[i] and not anyone else. Both countries have equal number of counterparts. A soldier with a higher power can kill the enemy soldier. If both soldiers have the same power, they both die. You need to find the winning country.\n",
    "Note: If no one winning, then return \"DRAW\".\n",
    "\n",
    "Examples:\n",
    "\n",
    "Input: arr1[] = [2, 2], arr2[] = [5, 5]\n",
    "Output: B\n",
    "Explanation: Both countries have 2 soldiers. arr2[0] kills arr1[0], arr2[1] kills arr1[1]. \n",
    "A has 0 soldiers alive at the end. B has both soldiers alive at the end.Return \"B\" as a winner.\n",
    "\n",
    "Input: arr1[] = [9], arr2[] = [8]  \n",
    "Output: A\n",
    "Explanation: arr1[0] > arr2[0], So A is the winner.\n",
    "Expected Time Complexity: O(n).\n",
    "Expected Auxiliary Space: O(1)."
   ]
  },
  {
   "cell_type": "code",
   "execution_count": 2,
   "id": "ce5184fd-5a11-4585-9d9e-917fd111d7ee",
   "metadata": {},
   "outputs": [
    {
     "name": "stdout",
     "output_type": "stream",
     "text": [
      "B\n"
     ]
    }
   ],
   "source": [
    "arr1 = [2, 2] \n",
    "arr2 = [5, 5]\n",
    "\n",
    "\n",
    "\n",
    "def countries_at_war(arr1, arr2):\n",
    "    a=b= 0\n",
    "    for i in range(len(arr1)):\n",
    "        if arr1[i] > arr2[i]:\n",
    "            a += 1\n",
    "        else:\n",
    "            b += 1\n",
    "            \n",
    "    if a==b:\n",
    "        return \"DRAW\"\n",
    "    \n",
    "    return \"A\" if a > b else \"B\"\n",
    "\n",
    "print(countries_at_war(arr1, arr2))"
   ]
  },
  {
   "cell_type": "code",
   "execution_count": null,
   "id": "f7883e8a-a060-44af-862b-d966a619d527",
   "metadata": {},
   "outputs": [],
   "source": []
  },
  {
   "cell_type": "code",
   "execution_count": null,
   "id": "0fe6342b-d92b-47c4-9185-dd45079f88a3",
   "metadata": {},
   "outputs": [],
   "source": []
  }
 ],
 "metadata": {
  "kernelspec": {
   "display_name": "Python 3 (ipykernel)",
   "language": "python",
   "name": "python3"
  },
  "language_info": {
   "codemirror_mode": {
    "name": "ipython",
    "version": 3
   },
   "file_extension": ".py",
   "mimetype": "text/x-python",
   "name": "python",
   "nbconvert_exporter": "python",
   "pygments_lexer": "ipython3",
   "version": "3.9.7"
  }
 },
 "nbformat": 4,
 "nbformat_minor": 5
}
