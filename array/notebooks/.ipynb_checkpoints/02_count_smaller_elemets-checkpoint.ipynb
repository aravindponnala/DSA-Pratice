{
 "cells": [
  {
   "cell_type": "markdown",
   "id": "f7d88912-ea54-484b-a455-60144bcffd06",
   "metadata": {},
   "source": [
    "Count of smaller elements\n",
    "\n",
    "Given an unsorted array arr. Find the count of elements less than or equal to the given element x.\n",
    "\n",
    "Examples:\n",
    "\n",
    "Input: x = 9, arr = [10, 1, 2, 8, 4, 5] \n",
    "Output: 5\n",
    "Explanation: The 5 elements are 1, 2, 8, 4 and 5.\n",
    "\n",
    "Input: x = 2, arr = [1, 2, 2, 5, 7, 2, 9] \n",
    "Output: 4 \n",
    "Explanation: The 4 elements are 1, 2, 2 and 2."
   ]
  },
  {
   "cell_type": "code",
   "execution_count": 10,
   "id": "541c0d2c-27a5-4410-891b-cc468b62a43c",
   "metadata": {},
   "outputs": [
    {
     "name": "stdout",
     "output_type": "stream",
     "text": [
      "None\n",
      "[1, 2, 4, 5, 8, 10]\n",
      "[1, 2, 4, 5, 8, 10]\n",
      "[10, 1, 2, 8, 4, 5]\n"
     ]
    }
   ],
   "source": [
    "\"\"\" We can sort arry in two ways  1=> Using sort() 2=> Using sorted()\"\"\"\n",
    "\n",
    "# Using sort()\n",
    "\n",
    "#This method modifies the original list in-place.\n",
    "arr1 = [10, 1, 2, 8, 4, 5]\n",
    "new_array = arr1.sort()\n",
    "print(new_array) # ===> it gives None because sort() make changes in in place so to see output we should print arr1\n",
    "print(arr1)\n",
    "\n",
    "#Using sorted()\n",
    "#This function returns a new sorted list, leaving the original list unchanged.\n",
    "arr1 = [10, 1, 2, 8, 4, 5]\n",
    "new_array = sorted(arr1)\n",
    "print(new_array)\n",
    "print(arr1)\n",
    "\n"
   ]
  },
  {
   "cell_type": "code",
   "execution_count": 22,
   "id": "382f63ed-be05-4b4e-bd0d-7e1e499f7497",
   "metadata": {},
   "outputs": [
    {
     "name": "stdout",
     "output_type": "stream",
     "text": [
      "5\n"
     ]
    }
   ],
   "source": [
    "\"\"\" My Solution \"\"\"\n",
    "\n",
    "arr1 = [10, 1, 2, 8, 4, 5]\n",
    "\n",
    "arr2 = [1, 2, 2, 5, 7, 2, 9] \n",
    "\n",
    "class Solution:\n",
    "    def __init__(self, arr):\n",
    "        self.arr = arr\n",
    "        \n",
    "    def count_smaller_elements(self, target_value):\n",
    "        # sort the array\n",
    "        \n",
    "        count = 0\n",
    "        elements = []\n",
    "        for i in self.arr:\n",
    "            if i <= target_value:\n",
    "                count = count + 1\n",
    "                elements.append(i)\n",
    "        \n",
    "        return count\n",
    "        \n",
    "sol = Solution(arr1)\n",
    "print(sol.count_smaller_elements(9))\n",
    "        "
   ]
  },
  {
   "cell_type": "code",
   "execution_count": null,
   "id": "2c2d76a9-5d2c-4cf5-88e5-2b3a5bc3b31a",
   "metadata": {},
   "outputs": [],
   "source": [
    "\"\"\" Optimal solution \"\"\"\n",
    "\n",
    "\n",
    "def count_elements_less_equal(arr, x):\n",
    "    count = 0\n",
    "    \n",
    "    # Single pass to count elements\n",
    "    for num in arr:\n",
    "        if num <= x:\n",
    "            count += 1\n",
    "    \n",
    "    return count\n",
    "\n",
    "# Example 1\n",
    "print(count_elements_less_equal([10, 1, 2, 8, 4, 5], 9))  # Output: 5\n",
    "\n",
    "# Example 2\n",
    "print(count_elements_less_equal([1, 2, 2, 5, 7, 2, 9], 2))  # Output: 4\n"
   ]
  }
 ],
 "metadata": {
  "kernelspec": {
   "display_name": "Python 3 (ipykernel)",
   "language": "python",
   "name": "python3"
  },
  "language_info": {
   "codemirror_mode": {
    "name": "ipython",
    "version": 3
   },
   "file_extension": ".py",
   "mimetype": "text/x-python",
   "name": "python",
   "nbconvert_exporter": "python",
   "pygments_lexer": "ipython3",
   "version": "3.9.7"
  }
 },
 "nbformat": 4,
 "nbformat_minor": 5
}
